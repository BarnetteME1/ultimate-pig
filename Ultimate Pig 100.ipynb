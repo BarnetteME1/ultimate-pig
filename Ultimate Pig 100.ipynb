{
 "cells": [
  {
   "cell_type": "code",
   "execution_count": 42,
   "metadata": {
    "collapsed": true
   },
   "outputs": [],
   "source": [
    "import matplotlib.pyplot as plt\n",
    "% matplotlib inline"
   ]
  },
  {
   "cell_type": "code",
   "execution_count": 70,
   "metadata": {
    "collapsed": true
   },
   "outputs": [],
   "source": [
    "import random\n",
    "\n",
    "class Dice:\n",
    "\n",
    "    def roll(self):\n",
    "        roll = random.randint(1,6)\n",
    "        return roll\n",
    "\n",
    "\n",
    "class Opponent:\n",
    "\n",
    "    def __init__(self, name = \"Pig Opponent\"):\n",
    "        self.dice = Dice()\n",
    "        self.score = 0\n",
    "        self.total_score = 0\n",
    "        self.count = 0\n",
    "        self.name = name\n",
    "        \n",
    "    def __str__(self):\n",
    "        return self.name\n",
    "\n",
    "    def roll(self):\n",
    "        return self.dice.roll()\n",
    "\n",
    "    def round_score(self):\n",
    "        roll = self.roll()\n",
    "        if roll > 1:\n",
    "            self.score += roll\n",
    "        else:\n",
    "            self.score = 0\n",
    "\n",
    "        return self.score\n",
    "\n",
    "    def roll_or_hold(self):\n",
    "        response = self.decision()\n",
    "        self.decision()\n",
    "        if response == 'hold':\n",
    "\n",
    "            self.total_score += self.score\n",
    "            self.score = 0\n",
    "            self.count = 0\n",
    "            return self.total_score\n",
    "        elif response == 'roll':\n",
    "\n",
    "            self.round_score()\n",
    "\n",
    "            return self.roll_or_hold()\n",
    "        elif response == 'bust':\n",
    "\n",
    "            self.count = 0\n",
    "            return self.total_score\n",
    "\n",
    "    def decision(self):\n",
    "        if self.count > 0:\n",
    "            return \"hold\"\n",
    "        elif self.score == 0 and self.count > 0:\n",
    "            return \"bust\"\n",
    "        else:\n",
    "            self.count += 1\n",
    "            return \"roll\"\n",
    "\n",
    "\n",
    "class Player:\n",
    "\n",
    "    def __init__(self):\n",
    "        self.dice = Dice()\n",
    "        self.score = 0\n",
    "        self.total_score = 0\n",
    "        self.count = 0\n",
    "\n",
    "    def roll(self):\n",
    "        return self.dice.roll()\n",
    "\n",
    "    def round_score(self):\n",
    "        roll = self.roll()\n",
    "        if roll > 1:\n",
    "            self.score += roll\n",
    "        else:\n",
    "            self.score = 0\n",
    "        return self.score\n",
    "\n",
    "    def roll_or_hold(self):\n",
    "        if self.score == 0 and self.count > 0:\n",
    "            print(self.count)\n",
    "            print(\"You bust\")\n",
    "            self.count = 0\n",
    "            return self.total_score\n",
    "        else:\n",
    "            response = input(\n",
    "            \"\\nDo you want to roll or hold? (Roll/Hold)\".lower())\n",
    "            if response == 'hold':\n",
    "                print(\"You hold\")\n",
    "                self.total_score += self.score\n",
    "                self.score = 0\n",
    "                self.count = 0\n",
    "                return self.total_score\n",
    "            if response == 'roll':\n",
    "                print(\"You roll\")\n",
    "                self.round_score()\n",
    "                print(\"your score this round: \", self.score)\n",
    "                print(\"your total score: \", self.total_score)\n",
    "                self.count += 1\n",
    "                return self.roll_or_hold()\n",
    "            \n",
    "class Game:\n",
    "\n",
    "    def __init__(self):\n",
    "        self.p1 = PigMoves21()\n",
    "        self.p2 = PigMoves20()\n",
    "        self.round_count = 0\n",
    "\n",
    "    def p1_turn(self):\n",
    "        self.p1.roll_or_hold()\n",
    "\n",
    "    def p2_turn(self):\n",
    "        self.p2.roll_or_hold()\n",
    "\n",
    "    def play_round_me(self):\n",
    "            self.p1_turn()\n",
    "            self.p2_turn()\n",
    "\n",
    "    def play_round_you(self):\n",
    "            self.p2_turn()\n",
    "            self.p1_turn()\n",
    "\n",
    "    def full_game(self):\n",
    "        while self.round_count < 7:\n",
    "            self.play_round_me()\n",
    "            self.round_count += 1\n",
    "        if self.p1.total_score > self.p2.total_score:\n",
    "            return \"{} BEATS {}! Final score is {}, to {}.\".format(\n",
    "            self.p1, self.p2, self.p1.total_score, self.p2.total_score)\n",
    "        else:\n",
    "            return \"{} BEATS {}! Final score is {}, to {}.\".format(\n",
    "            self.p2, self.p1, self.p1.total_score, self.p2.total_score)"
   ]
  },
  {
   "cell_type": "code",
   "execution_count": 71,
   "metadata": {
    "collapsed": false
   },
   "outputs": [],
   "source": [
    "class FullGame(Game):\n",
    "    \n",
    "    def full_game(self):\n",
    "        while self.p1.total_score <= 100 and self.p2.total_score <= 100:\n",
    "            self.play_round_me()\n",
    "            self.round_count += 1\n",
    "        if self.p1.total_score > self.p2.total_score:\n",
    "            return 1\n",
    "        elif self.p1.total_score < self.p2.total_score:\n",
    "            return 2\n",
    "        elif self.p1.total_score == self.p2.total_score:\n",
    "            return 3\n",
    "        \n",
    "    def game_scores(self):\n",
    "        return self.p1.total_score, self.p2.total_score"
   ]
  },
  {
   "cell_type": "code",
   "execution_count": 72,
   "metadata": {
    "collapsed": true
   },
   "outputs": [],
   "source": [
    "class PigMoves18(Opponent):\n",
    "\n",
    "    def decision(self):\n",
    "        if self.score > 18:\n",
    "            return \"hold\"\n",
    "        elif self.score == 0 and self.count > 0:\n",
    "            return \"bust\"\n",
    "        else:\n",
    "            self.count += 1\n",
    "            return \"roll\"\n",
    "\n",
    "class PigMoves19(Opponent):\n",
    "\n",
    "    def decision(self):\n",
    "        if self.score > 19:\n",
    "            return \"hold\"\n",
    "        elif self.score == 0 and self.count > 0:\n",
    "            return \"bust\"\n",
    "        else:\n",
    "            self.count += 1\n",
    "            return \"roll\"\n",
    "\n",
    "class PigMoves20(Opponent):\n",
    "\n",
    "    def decision(self):\n",
    "        if self.score > 20:\n",
    "            return \"hold\"\n",
    "        elif self.score == 0 and self.count > 0:\n",
    "            return \"bust\"\n",
    "        else:\n",
    "            self.count += 1\n",
    "            return \"roll\"\n",
    "        \n",
    "class PigMoves21(Opponent):\n",
    "\n",
    "    def decision(self):\n",
    "        if self.score > 21:\n",
    "            return \"hold\"\n",
    "        elif self.score == 0 and self.count > 0:\n",
    "            return \"bust\"\n",
    "        else:\n",
    "            self.count += 1\n",
    "            return \"roll\""
   ]
  },
  {
   "cell_type": "code",
   "execution_count": 73,
   "metadata": {
    "collapsed": true
   },
   "outputs": [],
   "source": [
    "def pig_trials(number = 10):\n",
    "    game_wins = []\n",
    "    final_score = []\n",
    "    for num in range(number):\n",
    "        game = FullGame()\n",
    "        game_wins.append(game.full_game())\n",
    "        final_score.append(game.game_scores())\n",
    "    return game_wins, final_score"
   ]
  },
  {
   "cell_type": "code",
   "execution_count": 74,
   "metadata": {
    "collapsed": false
   },
   "outputs": [],
   "source": [
    "trial_results = []\n",
    "score_results = []\n",
    "for number in [10, 100, 1000, 10000, 100000]:\n",
    "    trial_results.append(pig_trials(number)[0])\n",
    "    score_results.append(pig_trials(number)[1])"
   ]
  },
  {
   "cell_type": "code",
   "execution_count": 75,
   "metadata": {
    "collapsed": true
   },
   "outputs": [],
   "source": [
    "average_p1 = 0\n",
    "average_p2 = 0\n",
    "trials_average = []\n",
    "\n",
    "for trials in score_results:\n",
    "    average_p1 = 0\n",
    "    average_p2 = 0\n",
    "    for scores in trials:\n",
    "        average_p1 += scores[0]\n",
    "        average_p2 += scores[1]\n",
    "    average_p1 = average_p1/len(trials)\n",
    "    average_p2 = average_p2/len(trials)\n",
    "    trials_average.append((average_p1, average_p2))"
   ]
  },
  {
   "cell_type": "code",
   "execution_count": 76,
   "metadata": {
    "collapsed": true
   },
   "outputs": [],
   "source": [
    "one = 0\n",
    "two = 0\n",
    "tie = 0\n",
    "total_results = []\n",
    "for results in trial_results:\n",
    "    one = 0\n",
    "    two = 0\n",
    "    tie = 0\n",
    "    one += results.count(1)\n",
    "    two += results.count(2)\n",
    "    tie += results.count(3)\n",
    "    total_results.append([one, two, tie])"
   ]
  },
  {
   "cell_type": "markdown",
   "metadata": {},
   "source": [
    "# 19 count vs 18 count"
   ]
  },
  {
   "cell_type": "code",
   "execution_count": 59,
   "metadata": {
    "collapsed": false
   },
   "outputs": [
    {
     "data": {
      "image/png": "[encoded data removed]",
      "text/plain": [
       "<matplotlib.figure.Figure at 0x10ef03898>"
      ]
     },
     "metadata": {},
     "output_type": "display_data"
    }
   ],
   "source": [
    "y = total_results[4]\n",
    "x = range(len(y))\n",
    "z = \"19 count\", \"18 count\", \"Tie\"\n",
    "\n",
    "plt.bar(x, y, align = \"center\")\n",
    "plt.xticks([0,1,2], z)\n",
    "\n",
    "fig = plt.gcf()"
   ]
  },
  {
   "cell_type": "markdown",
   "metadata": {},
   "source": [
    "# 19 count vs 18 count average"
   ]
  },
  {
   "cell_type": "code",
   "execution_count": 60,
   "metadata": {
    "collapsed": false
   },
   "outputs": [
    {
     "data": {
      "text/plain": [
       "(87.11908, 86.88929)"
      ]
     },
     "execution_count": 60,
     "metadata": {},
     "output_type": "execute_result"
    }
   ],
   "source": [
    "trials_average[4]"
   ]
  },
  {
   "cell_type": "markdown",
   "metadata": {},
   "source": [
    "# 19 count vs 20 count"
   ]
  },
  {
   "cell_type": "code",
   "execution_count": 68,
   "metadata": {
    "collapsed": false
   },
   "outputs": [
    {
     "data": {
      "image/png": "[encoded data removed]",
      "text/plain": [
       "<matplotlib.figure.Figure at 0x10e59e6d8>"
      ]
     },
     "metadata": {},
     "output_type": "display_data"
    }
   ],
   "source": [
    "y = total_results[4]\n",
    "x = range(len(y))\n",
    "z = \"19 count\", \"20 count\", \"Tie\"\n",
    "\n",
    "plt.bar(x, y, align = \"center\")\n",
    "plt.xticks([0,1,2], z)\n",
    "\n",
    "fig = plt.gcf()"
   ]
  },
  {
   "cell_type": "markdown",
   "metadata": {},
   "source": [
    "# 19 count vs 20 count"
   ]
  },
  {
   "cell_type": "code",
   "execution_count": 69,
   "metadata": {
    "collapsed": false
   },
   "outputs": [
    {
     "data": {
      "text/plain": [
       "(89.10192, 89.10083)"
      ]
     },
     "execution_count": 69,
     "metadata": {},
     "output_type": "execute_result"
    }
   ],
   "source": [
    "trials_average[4]"
   ]
  },
  {
   "cell_type": "markdown",
   "metadata": {},
   "source": [
    "# 21 count vs 20 count"
   ]
  },
  {
   "cell_type": "code",
   "execution_count": 77,
   "metadata": {
    "collapsed": false
   },
   "outputs": [
    {
     "data": {
      "image/png": "[encoded data removed]",
      "text/plain": [
       "<matplotlib.figure.Figure at 0x10dc3e7f0>"
      ]
     },
     "metadata": {},
     "output_type": "display_data"
    }
   ],
   "source": [
    "y = total_results[4]\n",
    "x = range(len(y))\n",
    "z = \"21 count\", \"20 count\", \"Tie\"\n",
    "\n",
    "plt.bar(x, y, align = \"center\")\n",
    "plt.xticks([0,1,2], z)\n",
    "\n",
    "fig = plt.gcf()"
   ]
  },
  {
   "cell_type": "markdown",
   "metadata": {},
   "source": [
    "# 21 count vs 20 count average"
   ]
  },
  {
   "cell_type": "code",
   "execution_count": 78,
   "metadata": {
    "collapsed": false
   },
   "outputs": [
    {
     "data": {
      "text/plain": [
       "(92.45393, 92.70022)"
      ]
     },
     "execution_count": 78,
     "metadata": {},
     "output_type": "execute_result"
    }
   ],
   "source": [
    "trials_average[4]"
   ]
  },
  {
   "cell_type": "markdown",
   "metadata": {},
   "source": [
    "As opposed to my previous hypothesis from the previous study, it seems as though 19 is actually a better number to aim for than 20 when you're plyaing to 100"
   ]
  }
 ],
 "metadata": {
  "kernelspec": {
   "display_name": "Python 3",
   "language": "python",
   "name": "python3"
  },
  "language_info": {
   "codemirror_mode": {
    "name": "ipython",
    "version": 3
   },
   "file_extension": ".py",
   "mimetype": "text/x-python",
   "name": "python",
   "nbconvert_exporter": "python",
   "pygments_lexer": "ipython3",
   "version": "3.5.0"
  }
 },
 "nbformat": 4,
 "nbformat_minor": 0
}
